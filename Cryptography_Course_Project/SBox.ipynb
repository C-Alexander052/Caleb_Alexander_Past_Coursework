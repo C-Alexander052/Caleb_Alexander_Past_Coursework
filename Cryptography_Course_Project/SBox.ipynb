{
 "cells": [
  {
   "cell_type": "code",
   "execution_count": 1,
   "metadata": {},
   "outputs": [],
   "source": [
    "import numpy as np\n",
    "from itertools import product"
   ]
  },
  {
   "cell_type": "code",
   "execution_count": 6,
   "metadata": {},
   "outputs": [],
   "source": [
    "# MDS matrix taken from https://dergipark.org.tr/en/download/article-file/2290583\n",
    "\n",
    "A = np.array([\n",
    "    [0, 1, 0, 0, 1, 0, 0, 0, 1, 1, 0, 1, 0, 1, 1, 0],\n",
    "    [0, 1, 1, 0, 0, 1, 0, 0, 1, 0, 1, 1, 0, 1, 0, 1],\n",
    "    [0, 0, 1, 1, 0, 0, 1, 0, 0, 1, 0, 1, 1, 0, 1, 0],\n",
    "    [1, 0, 0, 1, 0, 0, 0, 1, 1, 0, 1, 0, 1, 1, 0, 1],\n",
    "    [1, 0, 0, 0, 0, 1, 0, 0, 0, 1, 1, 0, 1, 1, 0, 1],\n",
    "    [0, 1, 0, 0, 0, 1, 1, 0, 0, 1, 0, 1, 1, 0, 1, 1],\n",
    "    [0, 0, 1, 0, 0, 0, 1, 1, 1, 0, 1, 0, 0, 1, 0, 1],\n",
    "    [0, 0, 0, 1, 1, 0, 0, 1, 1, 1, 0, 1, 1, 0, 1, 0],\n",
    "    [1, 1, 0, 1, 0, 1, 1, 0, 0, 1, 0, 0, 1, 0, 0, 0],\n",
    "    [1, 0, 1, 1, 0, 1, 0, 1, 0, 1, 1, 0, 0, 1, 0, 0],\n",
    "    [0, 1, 0, 1, 1, 0, 1, 0, 0, 0, 1, 1, 0, 0, 1, 0],\n",
    "    [1, 0, 1, 0, 1, 1, 0, 1, 1, 0, 0, 1, 0, 0, 0, 1],\n",
    "    [0, 1, 1, 0, 1, 1, 0, 1, 1, 0, 0, 0, 0, 1, 0, 0],\n",
    "    [0, 1, 0, 1, 1, 0, 1, 1, 0, 1, 0, 0, 0, 1, 1, 0],\n",
    "    [1, 0, 1, 0, 0, 1, 0, 1, 0, 0, 1, 0, 0, 0, 1, 1],\n",
    "    [1, 1, 0, 1, 1, 0, 1, 0, 0, 0, 0, 1, 1, 0, 0, 1]])"
   ]
  },
  {
   "cell_type": "code",
   "execution_count": 8,
   "metadata": {},
   "outputs": [
    {
     "name": "stdout",
     "output_type": "stream",
     "text": [
      "16\n"
     ]
    }
   ],
   "source": [
    "rank = np.linalg.matrix_rank(A)\n",
    "print(rank)"
   ]
  },
  {
   "cell_type": "code",
   "execution_count": 10,
   "metadata": {},
   "outputs": [
    {
     "name": "stdout",
     "output_type": "stream",
     "text": [
      "[1 1 1 0 0 0 0 0 1 0 1 1 0 0 1 1]\n"
     ]
    }
   ],
   "source": [
    "b = np.array([1] * 8 + [0] * 8)\n",
    "np.random.seed(42)\n",
    "np.random.shuffle(b)\n",
    "print(b)"
   ]
  },
  {
   "cell_type": "code",
   "execution_count": 4,
   "metadata": {},
   "outputs": [],
   "source": [
    "def f1(x):\n",
    "    return (x[0] * x[1]) ^ (x[2] * x[3]) ^ (x[4] * x[5]) ^ (x[6] * x[7])\n",
    "\n",
    "def f2(x):\n",
    "    return (x[0] * x[2]) ^ (x[1] * x[3]) ^ (x[4] * x[6]) ^ (x[5] * x[7])\n",
    "\n",
    "def f3(x):\n",
    "    return (x[0] * x[3]) ^ (x[1] * x[2]) ^ (x[8] * x[9]) ^ (x[10] * x[11])\n",
    "\n",
    "def f4(x):\n",
    "    return (x[4] * x[5]) ^ (x[6] * x[7]) ^ (x[12] * x[13]) ^ (x[14] * x[15])\n",
    "\n",
    "def f5(x):\n",
    "    return (x[8] * x[9]) ^ (x[10] * x[11]) ^ (x[0] * x[4]) ^ (x[1] * x[5])\n",
    "\n",
    "def f6(x):\n",
    "    return (x[2] * x[6]) ^ (x[3] * x[7]) ^ (x[12] * x[14]) ^ (x[13] * x[15])\n",
    "\n",
    "def f7(x):\n",
    "    return (x[0] * x[8]) ^ (x[1] * x[9]) ^ (x[2] * x[10]) ^ (x[3] * x[11])\n",
    "\n",
    "def f8(x):\n",
    "    return (x[4] * x[12]) ^ (x[5] * x[13]) ^ (x[6] * x[14]) ^ (x[7] * x[15])\n",
    "\n",
    "def f9(x):\n",
    "    return (x[0] * x[5]) ^ (x[1] * x[4]) ^ (x[2] * x[7]) ^ (x[3] * x[6])\n",
    "\n",
    "def f10(x):\n",
    "    return (x[8] * x[13]) ^ (x[9] * x[12]) ^ (x[10] * x[15]) ^ (x[11] * x[14])\n",
    "\n",
    "def f11(x):\n",
    "    return (x[0] * x[13]) ^ (x[1] * x[12]) ^ (x[2] * x[15]) ^ (x[3] * x[14])\n",
    "\n",
    "def f12(x):\n",
    "    return (x[4] * x[9]) ^ (x[5] * x[8]) ^ (x[6] * x[11]) ^ (x[7] * x[10])\n",
    "\n",
    "def f13(x):\n",
    "    return (x[8] * x[5]) ^ (x[9] * x[4]) ^ (x[10] * x[7]) ^ (x[11] * x[6])\n",
    "\n",
    "def f14(x):\n",
    "    return (x[0] * x[10]) ^ (x[1] * x[11]) ^ (x[2] * x[8]) ^ (x[3] * x[9])\n",
    "\n",
    "def f15(x):\n",
    "    return (x[4] * x[14]) ^ (x[5] * x[15]) ^ (x[6] * x[12]) ^ (x[7] * x[13])\n",
    "\n",
    "def f16(x):\n",
    "    return (x[12] * x[1]) ^ (x[13] * x[0]) ^ (x[14] * x[3]) ^ (x[15] * x[2])\n",
    "\n",
    "\n",
    "bent_functions = [f1, f2, f3, f4, f5, f6, f7, f8, f9, f10, f11, f12, f13, f14, f15, f16]  "
   ]
  },
  {
   "cell_type": "code",
   "execution_count": 5,
   "metadata": {},
   "outputs": [
    {
     "name": "stdout",
     "output_type": "stream",
     "text": [
      "[1 0 0 0 0 0 0 0 0 0 0 0 0 0 0 0]\n",
      "[0 0 0 1 1 0 0 0 1 1 0 1 0 0 1 1]\n",
      "Input: 0b1100000011000000\n",
      "Output: 0b11000011111\n"
     ]
    }
   ],
   "source": [
    "def S_box(x):\n",
    "    x_bits = [(x >> i) & 1 for i in range(16)]\n",
    "    S_x = np.array([f(x_bits) for f in bent_functions])\n",
    "    print(S_x)\n",
    "    S_prime_x = (A @ S_x) % 2\n",
    "    print(S_prime_x)\n",
    "    output_bits = (S_prime_x + b) % 2\n",
    "    return int(\"\".join(str(bit) for bit in output_bits[::-1]), 2)\n",
    "\n",
    "# Example for a random input\n",
    "x = 0b1100000011000000\n",
    "S_x = S_box(x)\n",
    "print(f\"Input: {bin(x)}\\nOutput: {bin(S_x)}\")\n"
   ]
  }
 ],
 "metadata": {
  "kernelspec": {
   "display_name": "Python 3",
   "language": "python",
   "name": "python3"
  },
  "language_info": {
   "codemirror_mode": {
    "name": "ipython",
    "version": 3
   },
   "file_extension": ".py",
   "mimetype": "text/x-python",
   "name": "python",
   "nbconvert_exporter": "python",
   "pygments_lexer": "ipython3",
   "version": "3.12.2"
  }
 },
 "nbformat": 4,
 "nbformat_minor": 2
}
