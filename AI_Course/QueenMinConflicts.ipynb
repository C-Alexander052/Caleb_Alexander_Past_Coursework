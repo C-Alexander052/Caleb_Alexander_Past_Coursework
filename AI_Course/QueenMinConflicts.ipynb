{
  "cells": [
    {
      "cell_type": "code",
      "execution_count": 1,
      "metadata": {
        "trusted": true
      },
      "outputs": [],
      "source": [
        "import random\n",
        "import sys\n",
        "import numpy as np\n",
        "\n",
        "global n\n",
        "n = 8"
      ]
    },
    {
      "cell_type": "code",
      "execution_count": 2,
      "metadata": {
        "trusted": true
      },
      "outputs": [],
      "source": [
        "def drawBoard(queens):\n",
        "    # Draws board\n",
        "    for row in range(n):\n",
        "        for col in range(n):\n",
        "            c = 'Q' if queens[row] == col else ' '\n",
        "            if col==(n-1):\n",
        "                print(c, end='')\n",
        "            else:\n",
        "                print(c+' | ', end='')\n",
        "        print('\\n')\n",
        "        if row < (n-1):\n",
        "            for i in range((n*4)-2):\n",
        "                print('-', end='')\n",
        "            print('\\n')"
      ]
    },
    {
      "cell_type": "code",
      "execution_count": 3,
      "metadata": {
        "trusted": true
      },
      "outputs": [],
      "source": [
        "def startNewGame():\n",
        "    # Starts a new game\n",
        "    queens = []\n",
        "    for i in range(n):\n",
        "        queens.append(random.randint(0,7))\n",
        "    return queens"
      ]
    },
    {
      "cell_type": "code",
      "execution_count": 4,
      "metadata": {
        "trusted": true
      },
      "outputs": [],
      "source": [
        "def conflicts(row, col, queens):\n",
        "    # Checks the position for attacking queens\n",
        "    conflicts = 0\n",
        "    for i in range(n):\n",
        "        if i != row:\n",
        "            if queens[i] == col:\n",
        "                conflicts += 1\n",
        "            elif abs(i - row) == abs(queens[i] - col):\n",
        "                conflicts += 1\n",
        "\n",
        "    return conflicts"
      ]
    },
    {
      "cell_type": "code",
      "execution_count": 5,
      "metadata": {
        "trusted": true
      },
      "outputs": [],
      "source": [
        "def boardConflicts(queens):\n",
        "    # Gets the overall conflict for the whole board\n",
        "    conflict = 0\n",
        "    for i in range(n):\n",
        "        conflict += conflicts(i, queens[i], queens)\n",
        "    return conflict"
      ]
    },
    {
      "cell_type": "code",
      "execution_count": 6,
      "metadata": {
        "trusted": true
      },
      "outputs": [],
      "source": [
        "def minConflicts(queens, max_steps=sys.maxsize):\n",
        "    # Main algorithm\n",
        "\n",
        "    # Runs the algorithm until the max_steps is reached. If max_steps is left blank, it will run until the board is solved.\n",
        "    for j in range(max_steps):\n",
        "        # Choose a random row, and therefore queen\n",
        "        choice = random.randint(0,7)\n",
        "\n",
        "\n",
        "        # Get a list of all the conflict numbers for each other column\n",
        "        queens_copy = queens.copy()\n",
        "        conflict_list = []\n",
        "        for i in range(n):\n",
        "            if i != queens[choice]:\n",
        "                queens_copy[choice] = i\n",
        "                conflict_list.append(boardConflicts(queens_copy))\n",
        "            else:\n",
        "                conflict_list.append(sys.maxsize)\n",
        "\n",
        "        # Get the min of the conflicts, and then find the indices of those mins\n",
        "        min_conflicts = min(conflict_list)\n",
        "        min_conflicts_indices = []\n",
        "        for i, val in enumerate(conflict_list):\n",
        "            if val == min_conflicts:\n",
        "                min_conflicts_indices.append(i)\n",
        "\n",
        "        # Choose randomly from the indices that have the mins and move our queen there.\n",
        "        queens[choice] = random.choice(min_conflicts_indices)\n",
        "\n",
        "        # End if solved\n",
        "        if boardConflicts(queens) == 0:\n",
        "            return (queens, (j+1))\n",
        "    return (queens, (j+1))"
      ]
    },
    {
      "cell_type": "code",
      "execution_count": 7,
      "metadata": {
        "trusted": true
      },
      "outputs": [
        {
          "name": "stdout",
          "output_type": "stream",
          "text": [
            "  |   |   |   |   | Q |   |  \n",
            "\n",
            "------------------------------\n",
            "\n",
            "Q |   |   |   |   |   |   |  \n",
            "\n",
            "------------------------------\n",
            "\n",
            "  |   | Q |   |   |   |   |  \n",
            "\n",
            "------------------------------\n",
            "\n",
            "  |   |   |   |   |   |   | Q\n",
            "\n",
            "------------------------------\n",
            "\n",
            "  |   |   |   |   |   | Q |  \n",
            "\n",
            "------------------------------\n",
            "\n",
            "  |   | Q |   |   |   |   |  \n",
            "\n",
            "------------------------------\n",
            "\n",
            "Q |   |   |   |   |   |   |  \n",
            "\n",
            "------------------------------\n",
            "\n",
            "  | Q |   |   |   |   |   |  \n",
            "\n",
            "total conflict:  0\n",
            "  |   | Q |   |   |   |   |  \n",
            "\n",
            "------------------------------\n",
            "\n",
            "  |   |   |   |   | Q |   |  \n",
            "\n",
            "------------------------------\n",
            "\n",
            "  |   |   |   |   |   |   | Q\n",
            "\n",
            "------------------------------\n",
            "\n",
            "Q |   |   |   |   |   |   |  \n",
            "\n",
            "------------------------------\n",
            "\n",
            "  |   |   | Q |   |   |   |  \n",
            "\n",
            "------------------------------\n",
            "\n",
            "  |   |   |   |   |   | Q |  \n",
            "\n",
            "------------------------------\n",
            "\n",
            "  |   |   |   | Q |   |   |  \n",
            "\n",
            "------------------------------\n",
            "\n",
            "  | Q |   |   |   |   |   |  \n",
            "\n"
          ]
        }
      ],
      "source": [
        "# Test cell for a particular board\n",
        "queens = startNewGame()\n",
        "drawBoard(queens)\n",
        "boardConflicts(queens)\n",
        "queens = minConflicts(queens)[0]\n",
        "\n",
        "print('total conflict: ', boardConflicts(queens))\n",
        "drawBoard(queens)"
      ]
    },
    {
      "cell_type": "code",
      "execution_count": 8,
      "metadata": {
        "trusted": true
      },
      "outputs": [
        {
          "name": "stdout",
          "output_type": "stream",
          "text": [
            "min :  3\n",
            "max :  2862\n",
            "avg :  361.285\n"
          ]
        }
      ],
      "source": [
        "# This cell runs the code on 1000 (or however many you would like) board and aggregates the number of cycles it takes to solve the board, then prints the max, min, and average.\n",
        "\n",
        "runs = []\n",
        "for i in range(1000):\n",
        "    queens = startNewGame()\n",
        "    queens, run = minConflicts(queens)\n",
        "    runs.append(run)\n",
        "avg_runs = np.average(runs)\n",
        "min_runs = np.min(runs)\n",
        "max_runs = np.max(runs)\n",
        "\n",
        "print('min : ', min_runs)\n",
        "print('max : ', max_runs)\n",
        "print('avg : ', avg_runs)"
      ]
    }
  ],
  "metadata": {
    "kernelspec": {
      "display_name": "Python 3",
      "language": "python",
      "name": "python3"
    },
    "language_info": {
      "codemirror_mode": {
        "name": "ipython",
        "version": 3
      },
      "file_extension": ".py",
      "mimetype": "text/x-python",
      "name": "python",
      "nbconvert_exporter": "python",
      "pygments_lexer": "ipython3",
      "version": "3.12.2"
    }
  },
  "nbformat": 4,
  "nbformat_minor": 4
}
